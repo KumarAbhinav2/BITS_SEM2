{
 "cells": [
  {
   "cell_type": "markdown",
   "metadata": {},
   "source": [
    "### Including necessary Libraries"
   ]
  },
  {
   "cell_type": "code",
   "execution_count": 108,
   "metadata": {},
   "outputs": [],
   "source": [
    "import re\n",
    "import pandas as pd\n",
    "import numpy as np\n",
    "from scipy.io.arff import loadarff\n",
    "import seaborn as sns\n",
    "from sklearn.preprocessing import MinMaxScaler\n",
    "import matplotlib.pyplot as plt"
   ]
  },
  {
   "cell_type": "markdown",
   "metadata": {},
   "source": [
    "### Data Collection\n",
    "\n",
    "*Tried loading the dataset using loadarff utility from scikit learn but it was failing as the original arff file contains categorical data (string values) as well and the provision to include that yet not been implemented in loadarff from scipy. So we are using custom way to read the file.*"
   ]
  },
  {
   "cell_type": "code",
   "execution_count": 109,
   "metadata": {},
   "outputs": [],
   "source": [
    "pd.set_option('display.max_columns', 500, 'display.max_rows', 500)\n",
    "\n",
    "import warnings\n",
    "warnings.filterwarnings(\"ignore\")\n",
    "\n",
    "file = open('data.arff')\n",
    "columns_raw = []\n",
    "data = []\n",
    "for line in file:\n",
    "    if any((re.match(r'@relation', line), not line.strip())):\n",
    "        continue\n",
    "    if re.match(r'@attribute', line):\n",
    "        c_dict = {}\n",
    "        c_dict[\"name\"] = line.split(' ')[1].strip()\n",
    "        c_dict[\"type\"] = line.split(' ')[2].strip()\n",
    "        columns_raw.append(c_dict)\n",
    "    else:\n",
    "        if line.strip != '@data':\n",
    "            data.append(line.strip().split(', '))\n",
    "            \n",
    "df = pd.DataFrame(data=data[1:], columns=[col[\"name\"] for col in columns_raw])\n",
    "df_raw = df.copy() # saving raw data for later on additional analysis"
   ]
  },
  {
   "cell_type": "markdown",
   "metadata": {},
   "source": [
    "### Exploratory Data Analysis\n",
    "\n",
    "*1) Let's see what kind of values are there in our dataset*"
   ]
  },
  {
   "cell_type": "code",
   "execution_count": 110,
   "metadata": {},
   "outputs": [
    {
     "data": {
      "text/html": [
       "<div>\n",
       "<style scoped>\n",
       "    .dataframe tbody tr th:only-of-type {\n",
       "        vertical-align: middle;\n",
       "    }\n",
       "\n",
       "    .dataframe tbody tr th {\n",
       "        vertical-align: top;\n",
       "    }\n",
       "\n",
       "    .dataframe thead th {\n",
       "        text-align: right;\n",
       "    }\n",
       "</style>\n",
       "<table border=\"1\" class=\"dataframe\">\n",
       "  <thead>\n",
       "    <tr style=\"text-align: right;\">\n",
       "      <th></th>\n",
       "      <th>Hour</th>\n",
       "      <th>Immobilized_bus</th>\n",
       "      <th>Broken_Truck</th>\n",
       "      <th>Vehicle_excess</th>\n",
       "      <th>Accident_victim</th>\n",
       "      <th>Running_over</th>\n",
       "      <th>Fire_vehicles</th>\n",
       "      <th>Occurrence_involving_freight</th>\n",
       "      <th>Incident_involving_dangerous_freight</th>\n",
       "      <th>Lack_of_electricity</th>\n",
       "      <th>Fire</th>\n",
       "      <th>Point_of_flooding</th>\n",
       "      <th>Manifestations</th>\n",
       "      <th>Defect_in_the_network_of_trolleybuses</th>\n",
       "      <th>Tree_on_the_road</th>\n",
       "      <th>Semaphore_off</th>\n",
       "      <th>Intermittent_Semaphore</th>\n",
       "      <th>Slowness_in_traffic_percent</th>\n",
       "    </tr>\n",
       "  </thead>\n",
       "  <tbody>\n",
       "    <tr>\n",
       "      <th>0</th>\n",
       "      <td>7:00</td>\n",
       "      <td>0.0</td>\n",
       "      <td>0.0</td>\n",
       "      <td>T</td>\n",
       "      <td>0.0</td>\n",
       "      <td>0.0</td>\n",
       "      <td>NO</td>\n",
       "      <td>0.0</td>\n",
       "      <td>0.0</td>\n",
       "      <td>0.0</td>\n",
       "      <td>0.0</td>\n",
       "      <td>0.0</td>\n",
       "      <td>0.0</td>\n",
       "      <td>0.0</td>\n",
       "      <td>0.0</td>\n",
       "      <td>0.0</td>\n",
       "      <td>0.0</td>\n",
       "      <td>4.1</td>\n",
       "    </tr>\n",
       "    <tr>\n",
       "      <th>1</th>\n",
       "      <td>7:30</td>\n",
       "      <td>0.0</td>\n",
       "      <td>0.0</td>\n",
       "      <td>F</td>\n",
       "      <td>0.0</td>\n",
       "      <td>0.0</td>\n",
       "      <td>NO</td>\n",
       "      <td>0.0</td>\n",
       "      <td>0.0</td>\n",
       "      <td>0.0</td>\n",
       "      <td>0.0</td>\n",
       "      <td>0.0</td>\n",
       "      <td>0.0</td>\n",
       "      <td>0.0</td>\n",
       "      <td>0.0</td>\n",
       "      <td>0.0</td>\n",
       "      <td>0.0</td>\n",
       "      <td>6.6</td>\n",
       "    </tr>\n",
       "    <tr>\n",
       "      <th>2</th>\n",
       "      <td>8:00</td>\n",
       "      <td>0.0</td>\n",
       "      <td>0.0</td>\n",
       "      <td>F</td>\n",
       "      <td>0.0</td>\n",
       "      <td>0.0</td>\n",
       "      <td>NO</td>\n",
       "      <td>0.0</td>\n",
       "      <td>0.0</td>\n",
       "      <td>0.0</td>\n",
       "      <td>0.0</td>\n",
       "      <td>0.0</td>\n",
       "      <td>0.0</td>\n",
       "      <td>0.0</td>\n",
       "      <td>0.0</td>\n",
       "      <td>0.0</td>\n",
       "      <td>0.0</td>\n",
       "      <td>8.7</td>\n",
       "    </tr>\n",
       "    <tr>\n",
       "      <th>3</th>\n",
       "      <td>8:30</td>\n",
       "      <td>0.0</td>\n",
       "      <td>0.0</td>\n",
       "      <td>F</td>\n",
       "      <td>0.0</td>\n",
       "      <td>0.0</td>\n",
       "      <td>NO</td>\n",
       "      <td>0.0</td>\n",
       "      <td>0.0</td>\n",
       "      <td>0.0</td>\n",
       "      <td>0.0</td>\n",
       "      <td>0.0</td>\n",
       "      <td>0.0</td>\n",
       "      <td>0.0</td>\n",
       "      <td>0.0</td>\n",
       "      <td>0.0</td>\n",
       "      <td>0.0</td>\n",
       "      <td>9.2</td>\n",
       "    </tr>\n",
       "    <tr>\n",
       "      <th>4</th>\n",
       "      <td>9:00</td>\n",
       "      <td>0.0</td>\n",
       "      <td>0.0</td>\n",
       "      <td>F</td>\n",
       "      <td>0.0</td>\n",
       "      <td>0.0</td>\n",
       "      <td>NO</td>\n",
       "      <td>0.0</td>\n",
       "      <td>0.0</td>\n",
       "      <td>0.0</td>\n",
       "      <td>0.0</td>\n",
       "      <td>0.0</td>\n",
       "      <td>0.0</td>\n",
       "      <td>0.0</td>\n",
       "      <td>0.0</td>\n",
       "      <td>0.0</td>\n",
       "      <td>0.0</td>\n",
       "      <td>11.1</td>\n",
       "    </tr>\n",
       "  </tbody>\n",
       "</table>\n",
       "</div>"
      ],
      "text/plain": [
       "   Hour Immobilized_bus Broken_Truck Vehicle_excess Accident_victim  \\\n",
       "0  7:00             0.0          0.0              T             0.0   \n",
       "1  7:30             0.0          0.0              F             0.0   \n",
       "2  8:00             0.0          0.0              F             0.0   \n",
       "3  8:30             0.0          0.0              F             0.0   \n",
       "4  9:00             0.0          0.0              F             0.0   \n",
       "\n",
       "  Running_over Fire_vehicles Occurrence_involving_freight  \\\n",
       "0          0.0            NO                          0.0   \n",
       "1          0.0            NO                          0.0   \n",
       "2          0.0            NO                          0.0   \n",
       "3          0.0            NO                          0.0   \n",
       "4          0.0            NO                          0.0   \n",
       "\n",
       "  Incident_involving_dangerous_freight Lack_of_electricity Fire  \\\n",
       "0                                  0.0                 0.0  0.0   \n",
       "1                                  0.0                 0.0  0.0   \n",
       "2                                  0.0                 0.0  0.0   \n",
       "3                                  0.0                 0.0  0.0   \n",
       "4                                  0.0                 0.0  0.0   \n",
       "\n",
       "  Point_of_flooding Manifestations Defect_in_the_network_of_trolleybuses  \\\n",
       "0               0.0            0.0                                   0.0   \n",
       "1               0.0            0.0                                   0.0   \n",
       "2               0.0            0.0                                   0.0   \n",
       "3               0.0            0.0                                   0.0   \n",
       "4               0.0            0.0                                   0.0   \n",
       "\n",
       "  Tree_on_the_road Semaphore_off Intermittent_Semaphore  \\\n",
       "0              0.0           0.0                    0.0   \n",
       "1              0.0           0.0                    0.0   \n",
       "2              0.0           0.0                    0.0   \n",
       "3              0.0           0.0                    0.0   \n",
       "4              0.0           0.0                    0.0   \n",
       "\n",
       "  Slowness_in_traffic_percent  \n",
       "0                         4.1  \n",
       "1                         6.6  \n",
       "2                         8.7  \n",
       "3                         9.2  \n",
       "4                        11.1  "
      ]
     },
     "execution_count": 110,
     "metadata": {},
     "output_type": "execute_result"
    }
   ],
   "source": [
    "df.head()\n",
    "\n",
    "# Head tells us all columns but \"Hour\", \"Vehicle_excess\" and \"Fire_vehicles\" are numeric."
   ]
  },
  {
   "cell_type": "markdown",
   "metadata": {},
   "source": [
    "*2) What type of values are there*"
   ]
  },
  {
   "cell_type": "code",
   "execution_count": 111,
   "metadata": {},
   "outputs": [
    {
     "data": {
      "text/plain": [
       "Hour                                     object\n",
       "Immobilized_bus                          object\n",
       "Broken_Truck                             object\n",
       "Vehicle_excess                           object\n",
       "Accident_victim                          object\n",
       "Running_over                             object\n",
       "Fire_vehicles                            object\n",
       "Occurrence_involving_freight             object\n",
       "Incident_involving_dangerous_freight     object\n",
       "Lack_of_electricity                      object\n",
       "Fire                                     object\n",
       "Point_of_flooding                        object\n",
       "Manifestations                           object\n",
       "Defect_in_the_network_of_trolleybuses    object\n",
       "Tree_on_the_road                         object\n",
       "Semaphore_off                            object\n",
       "Intermittent_Semaphore                   object\n",
       "Slowness_in_traffic_percent              object\n",
       "dtype: object"
      ]
     },
     "execution_count": 111,
     "metadata": {},
     "output_type": "execute_result"
    }
   ],
   "source": [
    "df.dtypes"
   ]
  },
  {
   "cell_type": "markdown",
   "metadata": {},
   "source": [
    "*3) Lets see basic stats params*"
   ]
  },
  {
   "cell_type": "code",
   "execution_count": 112,
   "metadata": {},
   "outputs": [
    {
     "data": {
      "text/html": [
       "<div>\n",
       "<style scoped>\n",
       "    .dataframe tbody tr th:only-of-type {\n",
       "        vertical-align: middle;\n",
       "    }\n",
       "\n",
       "    .dataframe tbody tr th {\n",
       "        vertical-align: top;\n",
       "    }\n",
       "\n",
       "    .dataframe thead th {\n",
       "        text-align: right;\n",
       "    }\n",
       "</style>\n",
       "<table border=\"1\" class=\"dataframe\">\n",
       "  <thead>\n",
       "    <tr style=\"text-align: right;\">\n",
       "      <th></th>\n",
       "      <th>Hour</th>\n",
       "      <th>Immobilized_bus</th>\n",
       "      <th>Broken_Truck</th>\n",
       "      <th>Vehicle_excess</th>\n",
       "      <th>Accident_victim</th>\n",
       "      <th>Running_over</th>\n",
       "      <th>Fire_vehicles</th>\n",
       "      <th>Occurrence_involving_freight</th>\n",
       "      <th>Incident_involving_dangerous_freight</th>\n",
       "      <th>Lack_of_electricity</th>\n",
       "      <th>Fire</th>\n",
       "      <th>Point_of_flooding</th>\n",
       "      <th>Manifestations</th>\n",
       "      <th>Defect_in_the_network_of_trolleybuses</th>\n",
       "      <th>Tree_on_the_road</th>\n",
       "      <th>Semaphore_off</th>\n",
       "      <th>Intermittent_Semaphore</th>\n",
       "      <th>Slowness_in_traffic_percent</th>\n",
       "    </tr>\n",
       "  </thead>\n",
       "  <tbody>\n",
       "    <tr>\n",
       "      <th>count</th>\n",
       "      <td>140</td>\n",
       "      <td>140</td>\n",
       "      <td>140</td>\n",
       "      <td>140</td>\n",
       "      <td>140</td>\n",
       "      <td>140</td>\n",
       "      <td>140</td>\n",
       "      <td>140</td>\n",
       "      <td>140</td>\n",
       "      <td>140</td>\n",
       "      <td>140</td>\n",
       "      <td>140</td>\n",
       "      <td>140</td>\n",
       "      <td>140</td>\n",
       "      <td>140</td>\n",
       "      <td>140</td>\n",
       "      <td>140</td>\n",
       "      <td>140</td>\n",
       "    </tr>\n",
       "    <tr>\n",
       "      <th>unique</th>\n",
       "      <td>27</td>\n",
       "      <td>4</td>\n",
       "      <td>7</td>\n",
       "      <td>3</td>\n",
       "      <td>6</td>\n",
       "      <td>5</td>\n",
       "      <td>3</td>\n",
       "      <td>2</td>\n",
       "      <td>3</td>\n",
       "      <td>5</td>\n",
       "      <td>2</td>\n",
       "      <td>6</td>\n",
       "      <td>3</td>\n",
       "      <td>6</td>\n",
       "      <td>2</td>\n",
       "      <td>5</td>\n",
       "      <td>2</td>\n",
       "      <td>83</td>\n",
       "    </tr>\n",
       "    <tr>\n",
       "      <th>top</th>\n",
       "      <td>16:00</td>\n",
       "      <td>0.0</td>\n",
       "      <td>0.0</td>\n",
       "      <td>F</td>\n",
       "      <td>0.0</td>\n",
       "      <td>0.0</td>\n",
       "      <td>NO</td>\n",
       "      <td>0.0</td>\n",
       "      <td>0.0</td>\n",
       "      <td>0.0</td>\n",
       "      <td>0.0</td>\n",
       "      <td>0.0</td>\n",
       "      <td>0.0</td>\n",
       "      <td>0.0</td>\n",
       "      <td>0.0</td>\n",
       "      <td>0.0</td>\n",
       "      <td>0.0</td>\n",
       "      <td>7.4</td>\n",
       "    </tr>\n",
       "    <tr>\n",
       "      <th>freq</th>\n",
       "      <td>6</td>\n",
       "      <td>104</td>\n",
       "      <td>66</td>\n",
       "      <td>128</td>\n",
       "      <td>91</td>\n",
       "      <td>124</td>\n",
       "      <td>138</td>\n",
       "      <td>139</td>\n",
       "      <td>137</td>\n",
       "      <td>130</td>\n",
       "      <td>139</td>\n",
       "      <td>132</td>\n",
       "      <td>133</td>\n",
       "      <td>118</td>\n",
       "      <td>134</td>\n",
       "      <td>125</td>\n",
       "      <td>138</td>\n",
       "      <td>5</td>\n",
       "    </tr>\n",
       "  </tbody>\n",
       "</table>\n",
       "</div>"
      ],
      "text/plain": [
       "         Hour Immobilized_bus Broken_Truck Vehicle_excess Accident_victim  \\\n",
       "count     140             140          140            140             140   \n",
       "unique     27               4            7              3               6   \n",
       "top     16:00             0.0          0.0              F             0.0   \n",
       "freq        6             104           66            128              91   \n",
       "\n",
       "       Running_over Fire_vehicles Occurrence_involving_freight  \\\n",
       "count           140           140                          140   \n",
       "unique            5             3                            2   \n",
       "top             0.0            NO                          0.0   \n",
       "freq            124           138                          139   \n",
       "\n",
       "       Incident_involving_dangerous_freight Lack_of_electricity Fire  \\\n",
       "count                                   140                 140  140   \n",
       "unique                                    3                   5    2   \n",
       "top                                     0.0                 0.0  0.0   \n",
       "freq                                    137                 130  139   \n",
       "\n",
       "       Point_of_flooding Manifestations Defect_in_the_network_of_trolleybuses  \\\n",
       "count                140            140                                   140   \n",
       "unique                 6              3                                     6   \n",
       "top                  0.0            0.0                                   0.0   \n",
       "freq                 132            133                                   118   \n",
       "\n",
       "       Tree_on_the_road Semaphore_off Intermittent_Semaphore  \\\n",
       "count               140           140                    140   \n",
       "unique                2             5                      2   \n",
       "top                 0.0           0.0                    0.0   \n",
       "freq                134           125                    138   \n",
       "\n",
       "       Slowness_in_traffic_percent  \n",
       "count                          140  \n",
       "unique                          83  \n",
       "top                            7.4  \n",
       "freq                             5  "
      ]
     },
     "execution_count": 112,
     "metadata": {},
     "output_type": "execute_result"
    }
   ],
   "source": [
    "df.describe()\n",
    "# since our columns are object type doing describe won't help us a lot"
   ]
  },
  {
   "cell_type": "markdown",
   "metadata": {},
   "source": [
    "#### Data Preparation\n",
    "\n",
    "*1) First converting categorical columns to numerical values using pandas \"category\" and replacing some of the absurd values to proper one*"
   ]
  },
  {
   "cell_type": "code",
   "execution_count": 113,
   "metadata": {},
   "outputs": [],
   "source": [
    "def time_float(val):\n",
    "    return round(float(val.replace(':', '.')),2)\n",
    "\n",
    "# coverting hour to float to help us creating bins later in the analysis\n",
    "df[\"Hour\"] = df[\"Hour\"].apply(time_float)\n",
    "df[\"Hour\"] = df[\"Hour\"].astype(\"category\").cat.codes\n",
    "df[\"Vehicle_excess\"] = df[\"Vehicle_excess\"].replace('f', 'F')\n",
    "df[[\"Vehicle_excess\", \"Fire_vehicles\"]] = df[[\"Vehicle_excess\", \"Fire_vehicles\"]].astype(\"category\")\n",
    "df[\"Vehicle_excess\"] = df[\"Vehicle_excess\"].cat.codes\n",
    "df[\"Fire_vehicles\"] = df[\"Fire_vehicles\"].cat.codes"
   ]
  },
  {
   "cell_type": "code",
   "execution_count": 114,
   "metadata": {},
   "outputs": [
    {
     "data": {
      "text/html": [
       "<div>\n",
       "<style scoped>\n",
       "    .dataframe tbody tr th:only-of-type {\n",
       "        vertical-align: middle;\n",
       "    }\n",
       "\n",
       "    .dataframe tbody tr th {\n",
       "        vertical-align: top;\n",
       "    }\n",
       "\n",
       "    .dataframe thead th {\n",
       "        text-align: right;\n",
       "    }\n",
       "</style>\n",
       "<table border=\"1\" class=\"dataframe\">\n",
       "  <thead>\n",
       "    <tr style=\"text-align: right;\">\n",
       "      <th></th>\n",
       "      <th>Fire_vehicles</th>\n",
       "      <th>Vehicle_excess</th>\n",
       "      <th>Hour</th>\n",
       "    </tr>\n",
       "  </thead>\n",
       "  <tbody>\n",
       "    <tr>\n",
       "      <th>0</th>\n",
       "      <td>1</td>\n",
       "      <td>1</td>\n",
       "      <td>0</td>\n",
       "    </tr>\n",
       "    <tr>\n",
       "      <th>1</th>\n",
       "      <td>1</td>\n",
       "      <td>0</td>\n",
       "      <td>1</td>\n",
       "    </tr>\n",
       "    <tr>\n",
       "      <th>2</th>\n",
       "      <td>1</td>\n",
       "      <td>0</td>\n",
       "      <td>2</td>\n",
       "    </tr>\n",
       "    <tr>\n",
       "      <th>3</th>\n",
       "      <td>1</td>\n",
       "      <td>0</td>\n",
       "      <td>3</td>\n",
       "    </tr>\n",
       "    <tr>\n",
       "      <th>4</th>\n",
       "      <td>1</td>\n",
       "      <td>0</td>\n",
       "      <td>4</td>\n",
       "    </tr>\n",
       "  </tbody>\n",
       "</table>\n",
       "</div>"
      ],
      "text/plain": [
       "   Fire_vehicles  Vehicle_excess  Hour\n",
       "0              1               1     0\n",
       "1              1               0     1\n",
       "2              1               0     2\n",
       "3              1               0     3\n",
       "4              1               0     4"
      ]
     },
     "execution_count": 114,
     "metadata": {},
     "output_type": "execute_result"
    }
   ],
   "source": [
    "df[[\"Fire_vehicles\", \"Vehicle_excess\", \"Hour\"]].head()"
   ]
  },
  {
   "cell_type": "markdown",
   "metadata": {},
   "source": [
    "*Ok, this has now converted our categorical values to numeric one*"
   ]
  },
  {
   "cell_type": "code",
   "execution_count": 115,
   "metadata": {},
   "outputs": [
    {
     "data": {
      "text/plain": [
       "0.0     124\n",
       "1.0      13\n",
       "-1.0      1\n",
       "NO        1\n",
       "2.0       1\n",
       "Name: Running_over, dtype: int64"
      ]
     },
     "execution_count": 115,
     "metadata": {},
     "output_type": "execute_result"
    }
   ],
   "source": [
    "df[\"Running_over\"].value_counts()"
   ]
  },
  {
   "cell_type": "code",
   "execution_count": 116,
   "metadata": {},
   "outputs": [],
   "source": [
    "# Running over has two absurd entries like \"No\" and \"-1.0\", converting both to 0.0  as we cann\n",
    "# cannot afford lose as row because our dataset has only 140 rows\n",
    "df[\"Running_over\"] = df[\"Running_over\"].replace('NO', 0.0)\n",
    "df[\"Running_over\"] = df[\"Running_over\"].replace('-1.0', 0.0)"
   ]
  },
  {
   "cell_type": "markdown",
   "metadata": {},
   "source": [
    "*Converting rest of the columns to float as well, to ease out further analysis*"
   ]
  },
  {
   "cell_type": "code",
   "execution_count": 117,
   "metadata": {},
   "outputs": [
    {
     "data": {
      "text/html": [
       "<div>\n",
       "<style scoped>\n",
       "    .dataframe tbody tr th:only-of-type {\n",
       "        vertical-align: middle;\n",
       "    }\n",
       "\n",
       "    .dataframe tbody tr th {\n",
       "        vertical-align: top;\n",
       "    }\n",
       "\n",
       "    .dataframe thead th {\n",
       "        text-align: right;\n",
       "    }\n",
       "</style>\n",
       "<table border=\"1\" class=\"dataframe\">\n",
       "  <thead>\n",
       "    <tr style=\"text-align: right;\">\n",
       "      <th></th>\n",
       "      <th>Hour</th>\n",
       "      <th>Immobilized_bus</th>\n",
       "      <th>Broken_Truck</th>\n",
       "      <th>Vehicle_excess</th>\n",
       "      <th>Accident_victim</th>\n",
       "      <th>Running_over</th>\n",
       "      <th>Fire_vehicles</th>\n",
       "      <th>Occurrence_involving_freight</th>\n",
       "      <th>Incident_involving_dangerous_freight</th>\n",
       "      <th>Lack_of_electricity</th>\n",
       "      <th>Fire</th>\n",
       "      <th>Point_of_flooding</th>\n",
       "      <th>Manifestations</th>\n",
       "      <th>Defect_in_the_network_of_trolleybuses</th>\n",
       "      <th>Tree_on_the_road</th>\n",
       "      <th>Semaphore_off</th>\n",
       "      <th>Intermittent_Semaphore</th>\n",
       "      <th>Slowness_in_traffic_percent</th>\n",
       "    </tr>\n",
       "  </thead>\n",
       "  <tbody>\n",
       "    <tr>\n",
       "      <th>0</th>\n",
       "      <td>0</td>\n",
       "      <td>0.0</td>\n",
       "      <td>0.0</td>\n",
       "      <td>1</td>\n",
       "      <td>0.0</td>\n",
       "      <td>0.0</td>\n",
       "      <td>1</td>\n",
       "      <td>0.0</td>\n",
       "      <td>0.0</td>\n",
       "      <td>0.0</td>\n",
       "      <td>0.0</td>\n",
       "      <td>0.0</td>\n",
       "      <td>0.0</td>\n",
       "      <td>0.0</td>\n",
       "      <td>0.0</td>\n",
       "      <td>0.0</td>\n",
       "      <td>0.0</td>\n",
       "      <td>4.1</td>\n",
       "    </tr>\n",
       "    <tr>\n",
       "      <th>1</th>\n",
       "      <td>1</td>\n",
       "      <td>0.0</td>\n",
       "      <td>0.0</td>\n",
       "      <td>0</td>\n",
       "      <td>0.0</td>\n",
       "      <td>0.0</td>\n",
       "      <td>1</td>\n",
       "      <td>0.0</td>\n",
       "      <td>0.0</td>\n",
       "      <td>0.0</td>\n",
       "      <td>0.0</td>\n",
       "      <td>0.0</td>\n",
       "      <td>0.0</td>\n",
       "      <td>0.0</td>\n",
       "      <td>0.0</td>\n",
       "      <td>0.0</td>\n",
       "      <td>0.0</td>\n",
       "      <td>6.6</td>\n",
       "    </tr>\n",
       "    <tr>\n",
       "      <th>2</th>\n",
       "      <td>2</td>\n",
       "      <td>0.0</td>\n",
       "      <td>0.0</td>\n",
       "      <td>0</td>\n",
       "      <td>0.0</td>\n",
       "      <td>0.0</td>\n",
       "      <td>1</td>\n",
       "      <td>0.0</td>\n",
       "      <td>0.0</td>\n",
       "      <td>0.0</td>\n",
       "      <td>0.0</td>\n",
       "      <td>0.0</td>\n",
       "      <td>0.0</td>\n",
       "      <td>0.0</td>\n",
       "      <td>0.0</td>\n",
       "      <td>0.0</td>\n",
       "      <td>0.0</td>\n",
       "      <td>8.7</td>\n",
       "    </tr>\n",
       "    <tr>\n",
       "      <th>3</th>\n",
       "      <td>3</td>\n",
       "      <td>0.0</td>\n",
       "      <td>0.0</td>\n",
       "      <td>0</td>\n",
       "      <td>0.0</td>\n",
       "      <td>0.0</td>\n",
       "      <td>1</td>\n",
       "      <td>0.0</td>\n",
       "      <td>0.0</td>\n",
       "      <td>0.0</td>\n",
       "      <td>0.0</td>\n",
       "      <td>0.0</td>\n",
       "      <td>0.0</td>\n",
       "      <td>0.0</td>\n",
       "      <td>0.0</td>\n",
       "      <td>0.0</td>\n",
       "      <td>0.0</td>\n",
       "      <td>9.2</td>\n",
       "    </tr>\n",
       "    <tr>\n",
       "      <th>4</th>\n",
       "      <td>4</td>\n",
       "      <td>0.0</td>\n",
       "      <td>0.0</td>\n",
       "      <td>0</td>\n",
       "      <td>0.0</td>\n",
       "      <td>0.0</td>\n",
       "      <td>1</td>\n",
       "      <td>0.0</td>\n",
       "      <td>0.0</td>\n",
       "      <td>0.0</td>\n",
       "      <td>0.0</td>\n",
       "      <td>0.0</td>\n",
       "      <td>0.0</td>\n",
       "      <td>0.0</td>\n",
       "      <td>0.0</td>\n",
       "      <td>0.0</td>\n",
       "      <td>0.0</td>\n",
       "      <td>11.1</td>\n",
       "    </tr>\n",
       "  </tbody>\n",
       "</table>\n",
       "</div>"
      ],
      "text/plain": [
       "   Hour  Immobilized_bus  Broken_Truck  Vehicle_excess  Accident_victim  \\\n",
       "0     0              0.0           0.0               1              0.0   \n",
       "1     1              0.0           0.0               0              0.0   \n",
       "2     2              0.0           0.0               0              0.0   \n",
       "3     3              0.0           0.0               0              0.0   \n",
       "4     4              0.0           0.0               0              0.0   \n",
       "\n",
       "   Running_over  Fire_vehicles  Occurrence_involving_freight  \\\n",
       "0           0.0              1                           0.0   \n",
       "1           0.0              1                           0.0   \n",
       "2           0.0              1                           0.0   \n",
       "3           0.0              1                           0.0   \n",
       "4           0.0              1                           0.0   \n",
       "\n",
       "   Incident_involving_dangerous_freight  Lack_of_electricity  Fire  \\\n",
       "0                                   0.0                  0.0   0.0   \n",
       "1                                   0.0                  0.0   0.0   \n",
       "2                                   0.0                  0.0   0.0   \n",
       "3                                   0.0                  0.0   0.0   \n",
       "4                                   0.0                  0.0   0.0   \n",
       "\n",
       "   Point_of_flooding  Manifestations  Defect_in_the_network_of_trolleybuses  \\\n",
       "0                0.0             0.0                                    0.0   \n",
       "1                0.0             0.0                                    0.0   \n",
       "2                0.0             0.0                                    0.0   \n",
       "3                0.0             0.0                                    0.0   \n",
       "4                0.0             0.0                                    0.0   \n",
       "\n",
       "   Tree_on_the_road  Semaphore_off  Intermittent_Semaphore  \\\n",
       "0               0.0            0.0                     0.0   \n",
       "1               0.0            0.0                     0.0   \n",
       "2               0.0            0.0                     0.0   \n",
       "3               0.0            0.0                     0.0   \n",
       "4               0.0            0.0                     0.0   \n",
       "\n",
       "   Slowness_in_traffic_percent  \n",
       "0                          4.1  \n",
       "1                          6.6  \n",
       "2                          8.7  \n",
       "3                          9.2  \n",
       "4                         11.1  "
      ]
     },
     "execution_count": 117,
     "metadata": {},
     "output_type": "execute_result"
    }
   ],
   "source": [
    "df = df.apply(pd.to_numeric)\n",
    "df.head()"
   ]
  },
  {
   "cell_type": "code",
   "execution_count": 118,
   "metadata": {},
   "outputs": [
    {
     "data": {
      "text/plain": [
       "Hour                                        int8\n",
       "Immobilized_bus                          float64\n",
       "Broken_Truck                             float64\n",
       "Vehicle_excess                              int8\n",
       "Accident_victim                          float64\n",
       "Running_over                             float64\n",
       "Fire_vehicles                               int8\n",
       "Occurrence_involving_freight             float64\n",
       "Incident_involving_dangerous_freight     float64\n",
       "Lack_of_electricity                      float64\n",
       "Fire                                     float64\n",
       "Point_of_flooding                        float64\n",
       "Manifestations                           float64\n",
       "Defect_in_the_network_of_trolleybuses    float64\n",
       "Tree_on_the_road                         float64\n",
       "Semaphore_off                            float64\n",
       "Intermittent_Semaphore                   float64\n",
       "Slowness_in_traffic_percent              float64\n",
       "dtype: object"
      ]
     },
     "execution_count": 118,
     "metadata": {},
     "output_type": "execute_result"
    }
   ],
   "source": [
    "df.dtypes"
   ]
  },
  {
   "cell_type": "markdown",
   "metadata": {},
   "source": [
    "*Now lets figure out if we have some missing values*"
   ]
  },
  {
   "cell_type": "code",
   "execution_count": 119,
   "metadata": {},
   "outputs": [
    {
     "data": {
      "text/html": [
       "<div>\n",
       "<style scoped>\n",
       "    .dataframe tbody tr th:only-of-type {\n",
       "        vertical-align: middle;\n",
       "    }\n",
       "\n",
       "    .dataframe tbody tr th {\n",
       "        vertical-align: top;\n",
       "    }\n",
       "\n",
       "    .dataframe thead th {\n",
       "        text-align: right;\n",
       "    }\n",
       "</style>\n",
       "<table border=\"1\" class=\"dataframe\">\n",
       "  <thead>\n",
       "    <tr style=\"text-align: right;\">\n",
       "      <th></th>\n",
       "      <th>Total</th>\n",
       "      <th>%</th>\n",
       "    </tr>\n",
       "  </thead>\n",
       "  <tbody>\n",
       "    <tr>\n",
       "      <th>Incident_involving_dangerous_freight</th>\n",
       "      <td>2</td>\n",
       "      <td>1.4</td>\n",
       "    </tr>\n",
       "    <tr>\n",
       "      <th>Defect_in_the_network_of_trolleybuses</th>\n",
       "      <td>2</td>\n",
       "      <td>1.4</td>\n",
       "    </tr>\n",
       "    <tr>\n",
       "      <th>Accident_victim</th>\n",
       "      <td>2</td>\n",
       "      <td>1.4</td>\n",
       "    </tr>\n",
       "    <tr>\n",
       "      <th>Semaphore_off</th>\n",
       "      <td>1</td>\n",
       "      <td>0.7</td>\n",
       "    </tr>\n",
       "    <tr>\n",
       "      <th>Occurrence_involving_freight</th>\n",
       "      <td>0</td>\n",
       "      <td>0.0</td>\n",
       "    </tr>\n",
       "    <tr>\n",
       "      <th>Immobilized_bus</th>\n",
       "      <td>0</td>\n",
       "      <td>0.0</td>\n",
       "    </tr>\n",
       "    <tr>\n",
       "      <th>Broken_Truck</th>\n",
       "      <td>0</td>\n",
       "      <td>0.0</td>\n",
       "    </tr>\n",
       "    <tr>\n",
       "      <th>Vehicle_excess</th>\n",
       "      <td>0</td>\n",
       "      <td>0.0</td>\n",
       "    </tr>\n",
       "    <tr>\n",
       "      <th>Running_over</th>\n",
       "      <td>0</td>\n",
       "      <td>0.0</td>\n",
       "    </tr>\n",
       "    <tr>\n",
       "      <th>Fire_vehicles</th>\n",
       "      <td>0</td>\n",
       "      <td>0.0</td>\n",
       "    </tr>\n",
       "    <tr>\n",
       "      <th>Slowness_in_traffic_percent</th>\n",
       "      <td>0</td>\n",
       "      <td>0.0</td>\n",
       "    </tr>\n",
       "    <tr>\n",
       "      <th>Intermittent_Semaphore</th>\n",
       "      <td>0</td>\n",
       "      <td>0.0</td>\n",
       "    </tr>\n",
       "    <tr>\n",
       "      <th>Lack_of_electricity</th>\n",
       "      <td>0</td>\n",
       "      <td>0.0</td>\n",
       "    </tr>\n",
       "    <tr>\n",
       "      <th>Fire</th>\n",
       "      <td>0</td>\n",
       "      <td>0.0</td>\n",
       "    </tr>\n",
       "    <tr>\n",
       "      <th>Point_of_flooding</th>\n",
       "      <td>0</td>\n",
       "      <td>0.0</td>\n",
       "    </tr>\n",
       "    <tr>\n",
       "      <th>Manifestations</th>\n",
       "      <td>0</td>\n",
       "      <td>0.0</td>\n",
       "    </tr>\n",
       "    <tr>\n",
       "      <th>Tree_on_the_road</th>\n",
       "      <td>0</td>\n",
       "      <td>0.0</td>\n",
       "    </tr>\n",
       "    <tr>\n",
       "      <th>Hour</th>\n",
       "      <td>0</td>\n",
       "      <td>0.0</td>\n",
       "    </tr>\n",
       "  </tbody>\n",
       "</table>\n",
       "</div>"
      ],
      "text/plain": [
       "                                       Total    %\n",
       "Incident_involving_dangerous_freight       2  1.4\n",
       "Defect_in_the_network_of_trolleybuses      2  1.4\n",
       "Accident_victim                            2  1.4\n",
       "Semaphore_off                              1  0.7\n",
       "Occurrence_involving_freight               0  0.0\n",
       "Immobilized_bus                            0  0.0\n",
       "Broken_Truck                               0  0.0\n",
       "Vehicle_excess                             0  0.0\n",
       "Running_over                               0  0.0\n",
       "Fire_vehicles                              0  0.0\n",
       "Slowness_in_traffic_percent                0  0.0\n",
       "Intermittent_Semaphore                     0  0.0\n",
       "Lack_of_electricity                        0  0.0\n",
       "Fire                                       0  0.0\n",
       "Point_of_flooding                          0  0.0\n",
       "Manifestations                             0  0.0\n",
       "Tree_on_the_road                           0  0.0\n",
       "Hour                                       0  0.0"
      ]
     },
     "execution_count": 119,
     "metadata": {},
     "output_type": "execute_result"
    }
   ],
   "source": [
    "total = df.isnull().sum().sort_values(ascending=False)\n",
    "percent1 = df.isnull().sum()/df.isnull().count()*100\n",
    "percent2 = (round(percent1, 1).sort_values(ascending=False))\n",
    "missing_data = pd.concat([total, percent2], axis=1, keys=[\"Total\", '%'])\n",
    "missing_data"
   ]
  },
  {
   "cell_type": "markdown",
   "metadata": {},
   "source": [
    "*Replacing missing values with mode of the column and normalising the data so that our values will be in the range of 0-1*"
   ]
  },
  {
   "cell_type": "code",
   "execution_count": 120,
   "metadata": {},
   "outputs": [],
   "source": [
    "missing_data = missing_data[missing_data.Total > 0]\n",
    "for i in missing_data.itertuples():\n",
    "    freq_val = df[i.Index].mode()\n",
    "    df.replace(to_replace=np.nan, value=freq_val[0], inplace=True)"
   ]
  },
  {
   "cell_type": "code",
   "execution_count": 121,
   "metadata": {},
   "outputs": [
    {
     "data": {
      "text/plain": [
       "array([0., 1., 2., 4.])"
      ]
     },
     "execution_count": 121,
     "metadata": {},
     "output_type": "execute_result"
    }
   ],
   "source": [
    "df[\"Semaphore_off\"].unique()"
   ]
  },
  {
   "cell_type": "code",
   "execution_count": 122,
   "metadata": {},
   "outputs": [
    {
     "data": {
      "text/plain": [
       "Hour                                     0\n",
       "Immobilized_bus                          0\n",
       "Broken_Truck                             0\n",
       "Vehicle_excess                           0\n",
       "Accident_victim                          0\n",
       "Running_over                             0\n",
       "Fire_vehicles                            0\n",
       "Occurrence_involving_freight             0\n",
       "Incident_involving_dangerous_freight     0\n",
       "Lack_of_electricity                      0\n",
       "Fire                                     0\n",
       "Point_of_flooding                        0\n",
       "Manifestations                           0\n",
       "Defect_in_the_network_of_trolleybuses    0\n",
       "Tree_on_the_road                         0\n",
       "Semaphore_off                            0\n",
       "Intermittent_Semaphore                   0\n",
       "Slowness_in_traffic_percent              0\n",
       "dtype: int64"
      ]
     },
     "execution_count": 122,
     "metadata": {},
     "output_type": "execute_result"
    }
   ],
   "source": [
    "df.isnull().sum()"
   ]
  },
  {
   "cell_type": "code",
   "execution_count": 123,
   "metadata": {},
   "outputs": [],
   "source": [
    "# Keeping copy of data before column drops, for further analysis\n",
    "df_all_columns = df.copy()"
   ]
  },
  {
   "cell_type": "markdown",
   "metadata": {},
   "source": [
    "*Before actually doing anything else Lets, review kind of values we have for every *\n",
    "and there percentage share*\n",
    "*dropping the columns having percentage share of single value greater than 95% as they won't*\n",
    "*contribute much to the slowness in traffic* "
   ]
  },
  {
   "cell_type": "code",
   "execution_count": 124,
   "metadata": {},
   "outputs": [
    {
     "name": "stdout",
     "output_type": "stream",
     "text": [
      "----- Hour -----\n",
      "----- Immobilized_bus -----\n",
      "----- Broken_Truck -----\n",
      "----- Vehicle_excess -----\n",
      "-----Dropping the Vehicle_excess\n",
      "----- Accident_victim -----\n",
      "----- Running_over -----\n",
      "----- Fire_vehicles -----\n",
      "-----Dropping the Fire_vehicles\n",
      "----- Occurrence_involving_freight -----\n",
      "-----Dropping the Occurrence_involving_freight\n",
      "----- Incident_involving_dangerous_freight -----\n",
      "-----Dropping the Incident_involving_dangerous_freight\n",
      "----- Lack_of_electricity -----\n",
      "----- Fire -----\n",
      "-----Dropping the Fire\n",
      "----- Point_of_flooding -----\n",
      "----- Manifestations -----\n",
      "----- Defect_in_the_network_of_trolleybuses -----\n",
      "----- Tree_on_the_road -----\n",
      "-----Dropping the Tree_on_the_road\n",
      "----- Semaphore_off -----\n",
      "----- Intermittent_Semaphore -----\n",
      "-----Dropping the Intermittent_Semaphore\n",
      "----- Slowness_in_traffic_percent -----\n"
     ]
    }
   ],
   "source": [
    "for column in df.columns:\n",
    "    print(\"-----\", column, \"-----\")\n",
    "    val = df[column].value_counts()/df.shape[0]*(100)\n",
    "    if val.max() > 95:\n",
    "        print(f\"-----Dropping the {column}\")\n",
    "        df.drop([column], axis=1, inplace=True)"
   ]
  },
  {
   "cell_type": "code",
   "execution_count": 125,
   "metadata": {},
   "outputs": [
    {
     "data": {
      "text/plain": [
       "Index(['Hour', 'Immobilized_bus', 'Broken_Truck', 'Accident_victim',\n",
       "       'Running_over', 'Lack_of_electricity', 'Point_of_flooding',\n",
       "       'Manifestations', 'Defect_in_the_network_of_trolleybuses',\n",
       "       'Semaphore_off', 'Slowness_in_traffic_percent'],\n",
       "      dtype='object')"
      ]
     },
     "execution_count": 125,
     "metadata": {},
     "output_type": "execute_result"
    }
   ],
   "source": [
    "df.columns"
   ]
  },
  {
   "cell_type": "markdown",
   "metadata": {},
   "source": [
    "*Now Check if we have any outliers, using boxplot*"
   ]
  },
  {
   "cell_type": "code",
   "execution_count": 126,
   "metadata": {},
   "outputs": [
    {
     "data": {
      "image/png": "[encoded data removed]",
      "text/plain": [
       "<Figure size 432x288 with 1 Axes>"
      ]
     },
     "metadata": {
      "needs_background": "light"
     },
     "output_type": "display_data"
    },
    {
     "data": {
      "image/png": "[encoded data removed]",
      "text/plain": [
       "<Figure size 432x288 with 1 Axes>"
      ]
     },
     "metadata": {
      "needs_background": "light"
     },
     "output_type": "display_data"
    },
    {
     "data": {
      "image/png": "[encoded data removed]",
      "text/plain": [
       "<Figure size 432x288 with 1 Axes>"
      ]
     },
     "metadata": {
      "needs_background": "light"
     },
     "output_type": "display_data"
    },
    {
     "data": {
      "image/png": "[encoded data removed]",
      "text/plain": [
       "<Figure size 432x288 with 1 Axes>"
      ]
     },
     "metadata": {
      "needs_background": "light"
     },
     "output_type": "display_data"
    },
    {
     "data": {
      "image/png": "[encoded data removed]",
      "text/plain": [
       "<Figure size 432x288 with 1 Axes>"
      ]
     },
     "metadata": {
      "needs_background": "light"
     },
     "output_type": "display_data"
    },
    {
     "data": {
      "image/png": "[encoded data removed]",
      "text/plain": [
       "<Figure size 432x288 with 1 Axes>"
      ]
     },
     "metadata": {
      "needs_background": "light"
     },
     "output_type": "display_data"
    },
    {
     "data": {
      "image/png": "[encoded data removed]",
      "text/plain": [
       "<Figure size 432x288 with 1 Axes>"
      ]
     },
     "metadata": {
      "needs_background": "light"
     },
     "output_type": "display_data"
    },
    {
     "data": {
      "image/png": "[encoded data removed]",
      "text/plain": [
       "<Figure size 432x288 with 1 Axes>"
      ]
     },
     "metadata": {
      "needs_background": "light"
     },
     "output_type": "display_data"
    },
    {
     "data": {
      "image/png": "[encoded data removed]",
      "text/plain": [
       "<Figure size 432x288 with 1 Axes>"
      ]
     },
     "metadata": {
      "needs_background": "light"
     },
     "output_type": "display_data"
    },
    {
     "data": {
      "image/png": "[encoded data removed]",
      "text/plain": [
       "<Figure size 432x288 with 1 Axes>"
      ]
     },
     "metadata": {
      "needs_background": "light"
     },
     "output_type": "display_data"
    },
    {
     "data": {
      "image/png": "[encoded data removed]",
      "text/plain": [
       "<Figure size 432x288 with 1 Axes>"
      ]
     },
     "metadata": {
      "needs_background": "light"
     },
     "output_type": "display_data"
    }
   ],
   "source": [
    "for column in df:\n",
    "    plt.figure()\n",
    "    df.boxplot([column])"
   ]
  },
  {
   "cell_type": "markdown",
   "metadata": {},
   "source": [
    "*Removing the outliers as per boxplot*"
   ]
  },
  {
   "cell_type": "code",
   "execution_count": 127,
   "metadata": {},
   "outputs": [],
   "source": [
    "df.drop(df[df.Broken_Truck == 1000.0].index, inplace=True)\n",
    "df.drop(df[df.Point_of_flooding == 2000.0].index, inplace=True)\n",
    "#df.drop(df[df.Immobilized_bus == 4.0].index, inplace=True)\n",
    "#df.drop(df[df.Accident_victim == 3.0].index, inplace=True)\n",
    "df.replace('', 0.0, inplace=True)\n",
    "df.replace(' ', 0.0, inplace=True)\n",
    "#df.drop(df[df.Slowness_in_traffic_percent > 17.5].index, inplace=True)"
   ]
  },
  {
   "cell_type": "code",
   "execution_count": 128,
   "metadata": {},
   "outputs": [],
   "source": [
    "# Normalisation\n",
    "minmax = MinMaxScaler()\n",
    "df[[i for i in df.iloc[:, 1:]]] = minmax.fit_transform(df[[i for i in df.iloc[:, 1:]]])"
   ]
  },
  {
   "cell_type": "markdown",
   "metadata": {},
   "source": [
    "*Now we are down with limited columns 11 and lets do further EDA to see what all features we*\n",
    "*are important*\n",
    "\n",
    "*Plotting the pair plot to see the direct relationship between our target variable and other \n",
    "features*"
   ]
  },
  {
   "cell_type": "code",
   "execution_count": 129,
   "metadata": {},
   "outputs": [
    {
     "data": {
      "image/png": "[encoded data removed]",
      "text/plain": [
       "<Figure size 900x180 with 5 Axes>"
      ]
     },
     "metadata": {
      "needs_background": "light"
     },
     "output_type": "display_data"
    },
    {
     "data": {
      "image/png": "[encoded data removed]",
      "text/plain": [
       "<Figure size 900x180 with 5 Axes>"
      ]
     },
     "metadata": {
      "needs_background": "light"
     },
     "output_type": "display_data"
    },
    {
     "data": {
      "image/png": "[encoded data removed]",
      "text/plain": [
       "<Figure size 180x180 with 2 Axes>"
      ]
     },
     "metadata": {
      "needs_background": "light"
     },
     "output_type": "display_data"
    }
   ],
   "source": [
    "for i in range(0, len(df.columns), 5):\n",
    "    sns.pairplot(data=df, \n",
    "                x_vars=df.columns[i:i+5],\n",
    "                y_vars=[\"Slowness_in_traffic_percent\"])"
   ]
  },
  {
   "cell_type": "markdown",
   "metadata": {},
   "source": [
    "*From above plots its quite clear that \"Hour\" is very much in direct relation with Slowness\n",
    "for specific time frame, but we can't say anything with confidence for rest of the features\n",
    "Lets see individual features and see the relations the \"Hour\" & \"Slowness in traffic\"*"
   ]
  },
  {
   "cell_type": "code",
   "execution_count": 130,
   "metadata": {},
   "outputs": [
    {
     "data": {
      "image/png": "[encoded data removed]",
      "text/plain": [
       "<Figure size 432x288 with 1 Axes>"
      ]
     },
     "metadata": {
      "needs_background": "light"
     },
     "output_type": "display_data"
    },
    {
     "data": {
      "image/png": "[encoded data removed]",
      "text/plain": [
       "<Figure size 432x432 with 1 Axes>"
      ]
     },
     "metadata": {
      "needs_background": "light"
     },
     "output_type": "display_data"
    },
    {
     "data": {
      "image/png": "[encoded data removed]",
      "text/plain": [
       "<Figure size 432x432 with 1 Axes>"
      ]
     },
     "metadata": {
      "needs_background": "light"
     },
     "output_type": "display_data"
    },
    {
     "data": {
      "image/png": "[encoded data removed]",
      "text/plain": [
       "<Figure size 432x432 with 1 Axes>"
      ]
     },
     "metadata": {
      "needs_background": "light"
     },
     "output_type": "display_data"
    },
    {
     "data": {
      "image/png": "[encoded data removed]",
      "text/plain": [
       "<Figure size 432x432 with 1 Axes>"
      ]
     },
     "metadata": {
      "needs_background": "light"
     },
     "output_type": "display_data"
    },
    {
     "data": {
      "image/png": "[encoded data removed]",
      "text/plain": [
       "<Figure size 432x432 with 1 Axes>"
      ]
     },
     "metadata": {
      "needs_background": "light"
     },
     "output_type": "display_data"
    },
    {
     "data": {
      "image/png": "[encoded data removed]",
      "text/plain": [
       "<Figure size 432x432 with 1 Axes>"
      ]
     },
     "metadata": {
      "needs_background": "light"
     },
     "output_type": "display_data"
    },
    {
     "data": {
      "image/png": "[encoded data removed]",
      "text/plain": [
       "<Figure size 432x432 with 1 Axes>"
      ]
     },
     "metadata": {
      "needs_background": "light"
     },
     "output_type": "display_data"
    },
    {
     "data": {
      "image/png": "[encoded data removed]",
      "text/plain": [
       "<Figure size 432x432 with 1 Axes>"
      ]
     },
     "metadata": {
      "needs_background": "light"
     },
     "output_type": "display_data"
    },
    {
     "data": {
      "image/png": "[encoded data removed]",
      "text/plain": [
       "<Figure size 432x432 with 1 Axes>"
      ]
     },
     "metadata": {
      "needs_background": "light"
     },
     "output_type": "display_data"
    },
    {
     "data": {
      "text/plain": [
       "<Figure size 432x432 with 0 Axes>"
      ]
     },
     "metadata": {},
     "output_type": "display_data"
    }
   ],
   "source": [
    "import matplotlib.pyplot as plt\n",
    "for column in df.columns:\n",
    "    if column == 'Hour':\n",
    "        continue\n",
    "    grouped_df = df.groupby(\"Hour\")[column]\n",
    "    grouped_df_slowness = df.groupby(\"Hour\")[\"Slowness_in_traffic_percent\"]\n",
    "    plt.plot(grouped_df.agg('mean'), label=column, color='red')\n",
    "    plt.xlabel(\"Hour\")\n",
    "    plt.ylabel(column)\n",
    "    plt.plot(grouped_df_slowness.agg('mean'), label=\"Slowness in traffic\", color='blue')\n",
    "    plt.xticks(df[\"Hour\"])\n",
    "    plt.figure(figsize=(6, 6))"
   ]
  },
  {
   "cell_type": "markdown",
   "metadata": {},
   "source": [
    "*From our analysis we can see the below features (ordered)are contributing to Traffic Slowness*\n",
    "\n",
    "**<font color=green>'Hour > Broken_Truck > Point_of_Flooding > Semaphore_off'</font>**"
   ]
  },
  {
   "cell_type": "markdown",
   "metadata": {},
   "source": [
    "### Modelling and prediction (Cleaned and preprocessed data)\n",
    "\n",
    "*Now lets second our analysis by running couple of models and comparing the results\n",
    "First running it on the cleansed and preprocessed data*"
   ]
  },
  {
   "cell_type": "markdown",
   "metadata": {},
   "source": [
    "#### Polynomial Regression"
   ]
  },
  {
   "cell_type": "code",
   "execution_count": 131,
   "metadata": {},
   "outputs": [],
   "source": [
    "from sklearn.metrics import mean_squared_error as mse\n",
    "from sklearn.metrics import r2_score, median_absolute_error\n",
    "from sklearn.preprocessing import MinMaxScaler, PolynomialFeatures\n",
    "from sklearn.linear_model import LinearRegression\n",
    "from sklearn.model_selection import train_test_split\n",
    "\n",
    "y = df[\"Slowness_in_traffic_percent\"]\n",
    "x = df.drop([\"Slowness_in_traffic_percent\"], axis=1)\n",
    "\n",
    "\n",
    "x_train, x_test, y_train, y_test = train_test_split(x, y, test_size=0.2, random_state = 42)"
   ]
  },
  {
   "cell_type": "code",
   "execution_count": 132,
   "metadata": {},
   "outputs": [],
   "source": [
    "poly = PolynomialFeatures()\n",
    "poly_x = poly.fit_transform(x)\n",
    "\n",
    "regressor = LinearRegression()\n",
    "regressor.fit(poly_x, y)\n",
    "y_pred  = regressor.predict(poly.fit_transform(x_test))"
   ]
  },
  {
   "cell_type": "code",
   "execution_count": 133,
   "metadata": {},
   "outputs": [
    {
     "name": "stdout",
     "output_type": "stream",
     "text": [
      "Mean Squared Error 0.007660141372908598\n",
      "Mean Absolute Error 0.06\n",
      "R2 Score is:  0.8675927890137374\n",
      "Median Absolute Error 0.053583994923384934\n"
     ]
    }
   ],
   "source": [
    "print(\"Mean Squared Error\", mse(y_test, y_pred))\n",
    "errors = abs(y_pred-y_test)\n",
    "print(\"Mean Absolute Error\", round(np.mean(errors), 2))\n",
    "print(\"R2 Score is: \", r2_score(y_test, y_pred))\n",
    "print(\"Median Absolute Error\", median_absolute_error(y_test, y_pred))"
   ]
  },
  {
   "cell_type": "code",
   "execution_count": 134,
   "metadata": {},
   "outputs": [
    {
     "name": "stdout",
     "output_type": "stream",
     "text": [
      "Num Features: 5\n",
      "Selected Features: [False  True False  True False  True  True False  True False]\n",
      "Feature Ranking: [4 1 6 1 2 1 1 5 1 3]\n"
     ]
    }
   ],
   "source": [
    "from sklearn.feature_selection import RFE\n",
    "rfe = RFE(regressor, 5)\n",
    "fit = rfe.fit(x_train, y_train)\n",
    "print(\"Num Features: %d\" % fit.n_features_)\n",
    "print(\"Selected Features: %s\" % fit.support_)\n",
    "print(\"Feature Ranking: %s\" % fit.ranking_)"
   ]
  },
  {
   "cell_type": "markdown",
   "metadata": {},
   "source": [
    "#### Features predicted by model using RFE"
   ]
  },
  {
   "cell_type": "code",
   "execution_count": 135,
   "metadata": {},
   "outputs": [
    {
     "data": {
      "text/plain": [
       "Index(['Immobilized_bus', 'Accident_victim', 'Lack_of_electricity',\n",
       "       'Point_of_flooding', 'Defect_in_the_network_of_trolleybuses'],\n",
       "      dtype='object')"
      ]
     },
     "execution_count": 135,
     "metadata": {},
     "output_type": "execute_result"
    }
   ],
   "source": [
    "x_train[x_train.columns[fit.support_]].columns"
   ]
  },
  {
   "cell_type": "markdown",
   "metadata": {},
   "source": [
    "#### Random Forest Regressor"
   ]
  },
  {
   "cell_type": "code",
   "execution_count": 136,
   "metadata": {},
   "outputs": [
    {
     "name": "stdout",
     "output_type": "stream",
     "text": [
      "Mean Absolute Error: 0.11\n",
      "R2 Score is:  0.650138644441238\n",
      "Median Absolute Error is:  0.09557989167557611\n"
     ]
    }
   ],
   "source": [
    "# Import the model we are using\n",
    "from sklearn.ensemble import RandomForestRegressor\n",
    "# Instantiate model with 1000 decision trees\n",
    "rf = RandomForestRegressor(n_estimators = 100, max_depth = 2, random_state = 42)\n",
    "# Train the model on training data\n",
    "rf.fit(x_train, y_train)\n",
    "y_pred = rf.predict(x_test)\n",
    "# Calculate the absolute errors\n",
    "errors = abs(y_pred - y_test)\n",
    "print('Mean Absolute Error:', round(np.mean(errors), 2))\n",
    "print('R2 Score is: ', r2_score(y_test, y_pred))\n",
    "print('Median Absolute Error is: ', median_absolute_error(y_test, y_pred))"
   ]
  },
  {
   "cell_type": "code",
   "execution_count": 137,
   "metadata": {},
   "outputs": [
    {
     "name": "stdout",
     "output_type": "stream",
     "text": [
      "Num Features: 5\n",
      "Selected Features: [ True False False  True False  True  True False False  True]\n",
      "Feature Ranking: [1 6 2 1 5 1 1 4 3 1]\n"
     ]
    }
   ],
   "source": [
    "from sklearn.feature_selection import RFE\n",
    "rfe = RFE(rf, 5)\n",
    "fit = rfe.fit(x_train, y_train)\n",
    "print(\"Num Features: %d\" % fit.n_features_)\n",
    "print(\"Selected Features: %s\" % fit.support_)\n",
    "print(\"Feature Ranking: %s\" % fit.ranking_)"
   ]
  },
  {
   "cell_type": "markdown",
   "metadata": {},
   "source": [
    "*Columns influencing slowness in traffic as per RandomForest Regressor*"
   ]
  },
  {
   "cell_type": "code",
   "execution_count": 138,
   "metadata": {},
   "outputs": [
    {
     "data": {
      "text/plain": [
       "Index(['Hour', 'Accident_victim', 'Lack_of_electricity', 'Point_of_flooding',\n",
       "       'Semaphore_off'],\n",
       "      dtype='object')"
      ]
     },
     "execution_count": 138,
     "metadata": {},
     "output_type": "execute_result"
    }
   ],
   "source": [
    "x_train[x_train.columns[fit.support_]].columns"
   ]
  },
  {
   "cell_type": "markdown",
   "metadata": {},
   "source": [
    "### Modelling and prediction (on Raw data)\n",
    "\n",
    "*Now lets second our analysis by running couple of models and comparing the results\n",
    "First running it on raw data*"
   ]
  },
  {
   "cell_type": "code",
   "execution_count": 139,
   "metadata": {},
   "outputs": [],
   "source": [
    "df_all_columns.drop(df_all_columns[df_all_columns.Broken_Truck == 1000.0].index, inplace=True)\n",
    "df_all_columns.drop(df_all_columns[df_all_columns.Point_of_flooding == 2000.0].index, inplace=True)\n",
    "#df.drop(df[df.Immobilized_bus == 4.0].index, inplace=True)\n",
    "#df.drop(df[df.Accident_victim == 3.0].index, inplace=True)\n",
    "df_all_columns.replace('', 0.0, inplace=True)\n",
    "df_all_columns.replace(' ', 0.0, inplace=True)\n",
    "#df.drop(df[df.Slowness_in_traffic_percent > 17.5].index, inplace=True)\n",
    "# Normalisation\n",
    "minmax = MinMaxScaler()\n",
    "df_all_columns[[i for i in df_all_columns.iloc[:, 1:]]] = minmax.fit_transform(df_all_columns[[i for i in df_all_columns.iloc[:, 1:]]])\n",
    "\n",
    "y = df_all_columns[\"Slowness_in_traffic_percent\"]\n",
    "x = df_all_columns.drop([\"Slowness_in_traffic_percent\"], axis=1)\n",
    "\n",
    "\n",
    "x_train, x_test, y_train, y_test = train_test_split(x, y, test_size=0.2, random_state = 42)"
   ]
  },
  {
   "cell_type": "code",
   "execution_count": 140,
   "metadata": {},
   "outputs": [
    {
     "name": "stdout",
     "output_type": "stream",
     "text": [
      "Mean Squared Error 0.008451120865720856\n",
      "Mean Absolute Error 0.08\n",
      "R2 Score is:  0.8539205363108043\n",
      "Median Absolute Error 0.07067016601562497\n"
     ]
    }
   ],
   "source": [
    "poly = PolynomialFeatures()\n",
    "poly_x = poly.fit_transform(x)\n",
    "\n",
    "regressor = LinearRegression()\n",
    "regressor.fit(poly_x, y)\n",
    "y_pred  = regressor.predict(poly.fit_transform(x_test))\n",
    "\n",
    "print(\"Mean Squared Error\", mse(y_test, y_pred))\n",
    "errors = abs(y_pred-y_test)\n",
    "print(\"Mean Absolute Error\", round(np.mean(errors), 2))\n",
    "print(\"R2 Score is: \", r2_score(y_test, y_pred))\n",
    "print(\"Median Absolute Error\", median_absolute_error(y_test, y_pred))"
   ]
  },
  {
   "cell_type": "code",
   "execution_count": 141,
   "metadata": {},
   "outputs": [
    {
     "name": "stdout",
     "output_type": "stream",
     "text": [
      "Num Features: 5\n",
      "Selected Features: [False False False False False False  True False False  True False  True\n",
      "  True  True False False False]\n",
      "Feature Ranking: [ 8  5 11 13  3  7  1  2  9  1  4  1  1  1 12  6 10]\n"
     ]
    }
   ],
   "source": [
    "from sklearn.feature_selection import RFE\n",
    "rfe = RFE(regressor, 5)\n",
    "fit = rfe.fit(x_train, y_train)\n",
    "print(\"Num Features: %d\" % fit.n_features_)\n",
    "print(\"Selected Features: %s\" % fit.support_)\n",
    "print(\"Feature Ranking: %s\" % fit.ranking_)"
   ]
  },
  {
   "cell_type": "code",
   "execution_count": 142,
   "metadata": {},
   "outputs": [
    {
     "data": {
      "text/plain": [
       "Index(['Fire_vehicles', 'Lack_of_electricity', 'Point_of_flooding',\n",
       "       'Manifestations', 'Defect_in_the_network_of_trolleybuses'],\n",
       "      dtype='object')"
      ]
     },
     "execution_count": 142,
     "metadata": {},
     "output_type": "execute_result"
    }
   ],
   "source": [
    "x_train[x_train.columns[fit.support_]].columns"
   ]
  },
  {
   "cell_type": "markdown",
   "metadata": {},
   "source": [
    "#### Random Forest Regressor"
   ]
  },
  {
   "cell_type": "code",
   "execution_count": 143,
   "metadata": {},
   "outputs": [
    {
     "name": "stdout",
     "output_type": "stream",
     "text": [
      "Mean Absolute Error: 0.11\n",
      "R2 Score is:  0.6557220564722539\n",
      "Median Absolute Error is:  0.09604773184452466\n"
     ]
    }
   ],
   "source": [
    "# Import the model we are using\n",
    "from sklearn.ensemble import RandomForestRegressor\n",
    "# Instantiate model with 1000 decision trees\n",
    "rf = RandomForestRegressor(n_estimators = 1000, max_depth = 2, random_state = 42)\n",
    "# Train the model on training data\n",
    "rf.fit(x_train, y_train)\n",
    "y_pred = rf.predict(x_test)\n",
    "# Calculate the absolute errors\n",
    "errors = abs(y_pred - y_test)\n",
    "print('Mean Absolute Error:', round(np.mean(errors), 2))\n",
    "print('R2 Score is: ', r2_score(y_test, y_pred))\n",
    "print('Median Absolute Error is: ', median_absolute_error(y_test, y_pred))"
   ]
  },
  {
   "cell_type": "code",
   "execution_count": 144,
   "metadata": {},
   "outputs": [
    {
     "name": "stdout",
     "output_type": "stream",
     "text": [
      "Num Features: 5\n",
      "Selected Features: [ True False  True False False False False False False  True False  True\n",
      " False False False  True False]\n",
      "Feature Ranking: [ 1  2  1 12  3  4 11  6 13  1 10  1  9  8  5  1  7]\n"
     ]
    }
   ],
   "source": [
    "from sklearn.feature_selection import RFE\n",
    "rfe = RFE(rf, 5)\n",
    "fit = rfe.fit(x_train, y_train)\n",
    "print(\"Num Features: %d\" % fit.n_features_)\n",
    "print(\"Selected Features: %s\" % fit.support_)\n",
    "print(\"Feature Ranking: %s\" % fit.ranking_)"
   ]
  },
  {
   "cell_type": "code",
   "execution_count": 145,
   "metadata": {},
   "outputs": [
    {
     "data": {
      "text/plain": [
       "Index(['Hour', 'Broken_Truck', 'Lack_of_electricity', 'Point_of_flooding',\n",
       "       'Semaphore_off'],\n",
       "      dtype='object')"
      ]
     },
     "execution_count": 145,
     "metadata": {},
     "output_type": "execute_result"
    }
   ],
   "source": [
    "x_train[x_train.columns[fit.support_]].columns"
   ]
  },
  {
   "cell_type": "markdown",
   "metadata": {},
   "source": [
    "## Additional analysis\n",
    "\n",
    "*We can somehow enhance the model performance by bucketizing the hour column*"
   ]
  },
  {
   "cell_type": "code",
   "execution_count": 146,
   "metadata": {},
   "outputs": [],
   "source": [
    "b = [0, 9, 10, 18, 26]\n",
    "l = [\"Morning\", \"Afternoon\", \"Evening\", \"Night\"]\n",
    "df[\"Time\"] = pd.cut(df[\"Hour\"], bins=b, labels=l)\n",
    "x = pd.get_dummies(df[\"Time\"])\n",
    "df = pd.concat([df, x], axis=1)\n",
    "df = df.drop([\"Time\"], axis=1)\n",
    "\n",
    "y = df[\"Slowness_in_traffic_percent\"]\n",
    "x = df.drop([\"Slowness_in_traffic_percent\"], axis=1)\n",
    "\n",
    "\n",
    "x_train, x_test, y_train, y_test = train_test_split(x, y, test_size=0.2, random_state = 42)"
   ]
  },
  {
   "cell_type": "code",
   "execution_count": 147,
   "metadata": {},
   "outputs": [],
   "source": [
    "poly = PolynomialFeatures()\n",
    "poly_x = poly.fit_transform(x)\n",
    "\n",
    "regressor = LinearRegression()\n",
    "regressor.fit(poly_x, y)\n",
    "y_pred  = regressor.predict(poly.fit_transform(x_test))"
   ]
  },
  {
   "cell_type": "code",
   "execution_count": 148,
   "metadata": {},
   "outputs": [
    {
     "name": "stdout",
     "output_type": "stream",
     "text": [
      "Mean Squared Error 0.0031587940797392676\n",
      "Mean Absolute Error 0.04\n",
      "R2 Score is:  0.9453995567683128\n",
      "Median Absolute Error 0.036048965454101536\n"
     ]
    }
   ],
   "source": [
    "print(\"Mean Squared Error\", mse(y_test, y_pred))\n",
    "errors = abs(y_pred-y_test)\n",
    "print(\"Mean Absolute Error\", round(np.mean(errors), 2))\n",
    "print(\"R2 Score is: \", r2_score(y_test, y_pred))\n",
    "print(\"Median Absolute Error\", median_absolute_error(y_test, y_pred))"
   ]
  },
  {
   "cell_type": "markdown",
   "metadata": {},
   "source": [
    "*From our analysis we can see the below features are contributing to Traffic Slowness*\n",
    "and Second by model also :)*\n",
    "**<font color=green>'Hour : Broken_Truck : Point_of_Flooding : Semaphore_off'</font>**"
   ]
  }
 ],
 "metadata": {
  "kernelspec": {
   "display_name": "Python 3",
   "language": "python",
   "name": "python3"
  },
  "language_info": {
   "codemirror_mode": {
    "name": "ipython",
    "version": 3
   },
   "file_extension": ".py",
   "mimetype": "text/x-python",
   "name": "python",
   "nbconvert_exporter": "python",
   "pygments_lexer": "ipython3",
   "version": "3.7.3"
  }
 },
 "nbformat": 4,
 "nbformat_minor": 2
}
